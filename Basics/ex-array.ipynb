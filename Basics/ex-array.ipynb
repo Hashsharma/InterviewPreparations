{
 "cells": [
  {
   "cell_type": "code",
   "execution_count": 4,
   "id": "b8736cc1",
   "metadata": {},
   "outputs": [
    {
     "name": "stdout",
     "output_type": "stream",
     "text": [
      "88\n",
      "88\n",
      "88\n"
     ]
    }
   ],
   "source": [
    "# Find Largest element in an array\n",
    "a = [1, 2, 12, 33, 55, 11, 32, 88, 5]\n",
    "print(max(a))\n",
    "a.sort()\n",
    "print(a[-1])\n",
    "print(sorted(a)[-1])"
   ]
  },
  {
   "cell_type": "code",
   "execution_count": null,
   "id": "5aea4a2c",
   "metadata": {},
   "outputs": [
    {
     "name": "stdout",
     "output_type": "stream",
     "text": [
      "1\n",
      "1\n",
      "1\n"
     ]
    }
   ],
   "source": [
    "# Find Smallest element in an array\n",
    "a = [1, 2, 12, 33, 55, 11, 32, 88, 5]\n",
    "print(min(a))\n",
    "a.sort()\n",
    "print(a[0])\n",
    "print(sorted(a)[0])"
   ]
  },
  {
   "cell_type": "code",
   "execution_count": null,
   "id": "4f47e73d",
   "metadata": {},
   "outputs": [
    {
     "name": "stdout",
     "output_type": "stream",
     "text": [
      "2\n"
     ]
    }
   ],
   "source": [
    "# Find Second Smallest Element in an Array\n",
    "n = [1, 2, 1, 12, 33, 55, 11, 32, 88, 5]\n",
    "list(set(n)).sort()\n",
    "# n.sort()\n",
    "print(n[1])"
   ]
  },
  {
   "cell_type": "code",
   "execution_count": null,
   "id": "86aa32d2",
   "metadata": {},
   "outputs": [
    {
     "name": "stdout",
     "output_type": "stream",
     "text": [
      "240\n"
     ]
    }
   ],
   "source": [
    "# Calculate the sum of elements in an array\n",
    "n = [1, 2, 1, 12, 33, 55, 11, 32, 88, 5]\n",
    "print(sum(n))"
   ]
  },
  {
   "cell_type": "code",
   "execution_count": 8,
   "id": "eccae2d0",
   "metadata": {},
   "outputs": [
    {
     "name": "stdout",
     "output_type": "stream",
     "text": [
      "240\n"
     ]
    }
   ],
   "source": [
    "# Calculate the sum of elements in an array\n",
    "sm = 0\n",
    "for i in n:\n",
    "    sm += i\n",
    "\n",
    "print(sm)"
   ]
  },
  {
   "cell_type": "code",
   "execution_count": 9,
   "id": "a6489213",
   "metadata": {},
   "outputs": [
    {
     "name": "stdout",
     "output_type": "stream",
     "text": [
      "[5, 88, 32, 11, 55, 33, 12, 1, 2, 1]\n"
     ]
    }
   ],
   "source": [
    "# Reverse an Array\n",
    "n = [1, 2, 1, 12, 33, 55, 11, 32, 88, 5]\n",
    "print(n[::-1])"
   ]
  },
  {
   "cell_type": "code",
   "execution_count": 13,
   "id": "40434e90",
   "metadata": {},
   "outputs": [
    {
     "name": "stdout",
     "output_type": "stream",
     "text": [
      "[5, 88, 32, 11, 55, 33, 12, 1, 2, 1]\n"
     ]
    }
   ],
   "source": [
    "# Reverse an Array\n",
    "n = [1, 2, 1, 12, 33, 55, 11, 32, 88, 5]\n",
    "n.reverse()\n",
    "print(n)"
   ]
  },
  {
   "cell_type": "code",
   "execution_count": 21,
   "id": "81f319f3",
   "metadata": {},
   "outputs": [
    {
     "name": "stdout",
     "output_type": "stream",
     "text": [
      "5\n",
      "88\n",
      "32\n",
      "11\n",
      "55\n",
      "33\n",
      "12\n",
      "1\n",
      "2\n"
     ]
    }
   ],
   "source": [
    "# Reverse an Array\n",
    "n = [1, 2, 1, 12, 33, 55, 11, 32, 88, 5]\n",
    "for i in range(len(n)-1, 0, -1):\n",
    "    print(n[i])"
   ]
  },
  {
   "cell_type": "code",
   "execution_count": null,
   "id": "f9b5492e",
   "metadata": {},
   "outputs": [
    {
     "ename": "NameError",
     "evalue": "name 'mid' is not defined",
     "output_type": "error",
     "traceback": [
      "\u001b[0;31m---------------------------------------------------------------------------\u001b[0m",
      "\u001b[0;31mNameError\u001b[0m                                 Traceback (most recent call last)",
      "Cell \u001b[0;32mIn[22], line 3\u001b[0m\n\u001b[1;32m      1\u001b[0m \u001b[38;5;66;03m# Sort first half in ascending order and second half in descending\u001b[39;00m\n\u001b[1;32m      2\u001b[0m n \u001b[38;5;241m=\u001b[39m [\u001b[38;5;241m1\u001b[39m, \u001b[38;5;241m2\u001b[39m, \u001b[38;5;241m1\u001b[39m, \u001b[38;5;241m12\u001b[39m, \u001b[38;5;241m33\u001b[39m, \u001b[38;5;241m55\u001b[39m, \u001b[38;5;241m11\u001b[39m, \u001b[38;5;241m32\u001b[39m, \u001b[38;5;241m88\u001b[39m, \u001b[38;5;241m5\u001b[39m]\n\u001b[0;32m----> 3\u001b[0m \u001b[38;5;28mprint\u001b[39m(\u001b[43mmid\u001b[49m(n))\n",
      "\u001b[0;31mNameError\u001b[0m: name 'mid' is not defined"
     ]
    }
   ],
   "source": [
    "# Sort first half in ascending order and second half in descending\n",
    "n = [1, 2, 1, 12, 33, 55, 11, 32, 88, 5]\n"
   ]
  },
  {
   "cell_type": "code",
   "execution_count": null,
   "id": "94feed65",
   "metadata": {},
   "outputs": [],
   "source": []
  }
 ],
 "metadata": {
  "kernelspec": {
   "display_name": "portfol_venv",
   "language": "python",
   "name": "portfol_venv"
  },
  "language_info": {
   "codemirror_mode": {
    "name": "ipython",
    "version": 3
   },
   "file_extension": ".py",
   "mimetype": "text/x-python",
   "name": "python",
   "nbconvert_exporter": "python",
   "pygments_lexer": "ipython3",
   "version": "3.10.18"
  }
 },
 "nbformat": 4,
 "nbformat_minor": 5
}
