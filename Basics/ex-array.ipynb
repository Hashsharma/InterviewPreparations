{
 "cells": [
  {
   "cell_type": "code",
   "execution_count": 4,
   "id": "b8736cc1",
   "metadata": {},
   "outputs": [
    {
     "name": "stdout",
     "output_type": "stream",
     "text": [
      "88\n",
      "88\n",
      "88\n"
     ]
    }
   ],
   "source": [
    "# Find Largest element in an array\n",
    "a = [1, 2, 12, 33, 55, 11, 32, 88, 5]\n",
    "print(max(a))\n",
    "a.sort()\n",
    "print(a[-1])\n",
    "print(sorted(a)[-1])"
   ]
  },
  {
   "cell_type": "code",
   "execution_count": null,
   "id": "5aea4a2c",
   "metadata": {},
   "outputs": [
    {
     "name": "stdout",
     "output_type": "stream",
     "text": [
      "1\n",
      "1\n",
      "1\n"
     ]
    }
   ],
   "source": [
    "# Find Smallest element in an array\n",
    "a = [1, 2, 12, 33, 55, 11, 32, 88, 5]\n",
    "print(min(a))\n",
    "a.sort()\n",
    "print(a[0])\n",
    "print(sorted(a)[0])"
   ]
  },
  {
   "cell_type": "code",
   "execution_count": null,
   "id": "4f47e73d",
   "metadata": {},
   "outputs": [
    {
     "name": "stdout",
     "output_type": "stream",
     "text": [
      "2\n"
     ]
    }
   ],
   "source": [
    "# Find Second Smallest Element in an Array\n",
    "n = [1, 2, 1, 12, 33, 55, 11, 32, 88, 5]\n",
    "list(set(n)).sort()\n",
    "# n.sort()\n",
    "print(n[1])"
   ]
  },
  {
   "cell_type": "code",
   "execution_count": null,
   "id": "86aa32d2",
   "metadata": {},
   "outputs": [
    {
     "name": "stdout",
     "output_type": "stream",
     "text": [
      "240\n"
     ]
    }
   ],
   "source": [
    "# Calculate the sum of elements in an array\n",
    "n = [1, 2, 1, 12, 33, 55, 11, 32, 88, 5]\n",
    "print(sum(n))"
   ]
  },
  {
   "cell_type": "code",
   "execution_count": null,
   "id": "eccae2d0",
   "metadata": {},
   "outputs": [],
   "source": [
    "# Calculate the sum of elements in an array\n"
   ]
  }
 ],
 "metadata": {
  "kernelspec": {
   "display_name": "portfol_venv",
   "language": "python",
   "name": "portfol_venv"
  },
  "language_info": {
   "codemirror_mode": {
    "name": "ipython",
    "version": 3
   },
   "file_extension": ".py",
   "mimetype": "text/x-python",
   "name": "python",
   "nbconvert_exporter": "python",
   "pygments_lexer": "ipython3",
   "version": "3.10.18"
  }
 },
 "nbformat": 4,
 "nbformat_minor": 5
}
