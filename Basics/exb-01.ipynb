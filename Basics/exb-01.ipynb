{
 "cells": [
  {
   "cell_type": "code",
   "execution_count": 2,
   "id": "68ac6a97",
   "metadata": {},
   "outputs": [
    {
     "name": "stdout",
     "output_type": "stream",
     "text": [
      "54321\n"
     ]
    }
   ],
   "source": [
    "## Reverse a number\n",
    "a = 12345\n",
    "print(int(str(a)[::-1]))"
   ]
  },
  {
   "cell_type": "code",
   "execution_count": 4,
   "id": "ab14fa09",
   "metadata": {},
   "outputs": [
    {
     "name": "stdout",
     "output_type": "stream",
     "text": [
      "It is not a Palindrome\n"
     ]
    }
   ],
   "source": [
    "# Palindrome\n",
    "pal = \"madam\"\n",
    "print(\"It is a Palindrome\" if pal[:] == pal[::-1] else \"It is not a Palindrome\")"
   ]
  },
  {
   "cell_type": "code",
   "execution_count": 2,
   "id": "c5c0c068",
   "metadata": {},
   "outputs": [
    {
     "name": "stdout",
     "output_type": "stream",
     "text": [
      "153\n"
     ]
    }
   ],
   "source": [
    "# Armstrong number\n",
    "arm = 153\n",
    "# sum = 0\n",
    "# for i in str(arm):\n",
    "#     sum += int(i)**3\n",
    "\n",
    "# print(sum)\n",
    "\n",
    "print(sum((int(i)**3) for i in str(arm)))"
   ]
  },
  {
   "cell_type": "code",
   "execution_count": 5,
   "id": "c1923ccf",
   "metadata": {},
   "outputs": [
    {
     "name": "stdout",
     "output_type": "stream",
     "text": [
      "45\n"
     ]
    }
   ],
   "source": [
    "##  Armstrong number in a given range between 5 to 10\n",
    "## b(b+1)/2 - a(a-1)/2\n",
    "a,b = 5, 10\n",
    "print(int(b*(b+1)/2 - a*(a-1)/2))"
   ]
  },
  {
   "cell_type": "code",
   "execution_count": 11,
   "id": "b228b55a",
   "metadata": {},
   "outputs": [
    {
     "name": "stdout",
     "output_type": "stream",
     "text": [
      "[0, 1, 1, 2, 3, 5, 8, 13, 21, 34]\n"
     ]
    }
   ],
   "source": [
    "## Fibonacci Series 0, 1, 1, 2, 3, 5, 8, 13, 21, 34\n",
    "n=10\n",
    "a = [0, 1]\n",
    "for _ in range(2, n):\n",
    "    a.append(a[-1]+a[-2])\n",
    "\n",
    "print(a)"
   ]
  },
  {
   "cell_type": "code",
   "execution_count": 4,
   "id": "1b0d3e09",
   "metadata": {},
   "outputs": [
    {
     "name": "stdout",
     "output_type": "stream",
     "text": [
      "120\n"
     ]
    }
   ],
   "source": [
    "## Factorial of a number\n",
    "import math\n",
    "n=5\n",
    "print(math.prod(i+1 for i in range(n)))"
   ]
  },
  {
   "cell_type": "code",
   "execution_count": null,
   "id": "7f9b8cf6",
   "metadata": {},
   "outputs": [
    {
     "name": "stdout",
     "output_type": "stream",
     "text": [
      "Not a Strong Number\n"
     ]
    }
   ],
   "source": [
    "## Strong Number\n",
    "n = 145\n",
    "res = 0\n",
    "for k in str(n):\n",
    "    res += math.prod(i+1 for i in range(int(k)))\n",
    "\n",
    "print(\"Strong Number\" if res == n else \"Not a Strong Number\")"
   ]
  },
  {
   "cell_type": "code",
   "execution_count": null,
   "id": "76e68e29",
   "metadata": {},
   "outputs": [],
   "source": []
  }
 ],
 "metadata": {
  "kernelspec": {
   "display_name": "portfol_venv",
   "language": "python",
   "name": "portfol_venv"
  },
  "language_info": {
   "codemirror_mode": {
    "name": "ipython",
    "version": 3
   },
   "file_extension": ".py",
   "mimetype": "text/x-python",
   "name": "python",
   "nbconvert_exporter": "python",
   "pygments_lexer": "ipython3",
   "version": "3.10.18"
  }
 },
 "nbformat": 4,
 "nbformat_minor": 5
}
