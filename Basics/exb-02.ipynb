{
 "cells": [
  {
   "cell_type": "code",
   "execution_count": null,
   "id": "ddac3900",
   "metadata": {},
   "outputs": [
    {
     "name": "stdout",
     "output_type": "stream",
     "text": [
      "5\n"
     ]
    }
   ],
   "source": [
    "## Normal way of finding Binary to decimal\n",
    "n = \"0101\"\n",
    "a= []\n",
    "le = len(n)\n",
    "count = 0\n",
    "for i in n:\n",
    "    count += 1\n",
    "    v = int(i)\n",
    "    l = le-count\n",
    "    a.append(2**l * v)\n",
    "\n",
    "print(sum(a))"
   ]
  },
  {
   "cell_type": "code",
   "execution_count": 15,
   "id": "190bf70d",
   "metadata": {},
   "outputs": [
    {
     "name": "stdout",
     "output_type": "stream",
     "text": [
      "15\n"
     ]
    }
   ],
   "source": [
    "## Fast way of finding Binary to decimal\n",
    "n = \"1111\"\n",
    "print(int(n, 2))"
   ]
  },
  {
   "cell_type": "code",
   "execution_count": 20,
   "id": "29fbf8fa",
   "metadata": {},
   "outputs": [
    {
     "name": "stdout",
     "output_type": "stream",
     "text": [
      "15\n"
     ]
    }
   ],
   "source": [
    "## Fast way of finding Octal to decimal\n",
    "n = \"17\"\n",
    "print(int(n, 8))"
   ]
  },
  {
   "cell_type": "code",
   "execution_count": 24,
   "id": "e749dc10",
   "metadata": {},
   "outputs": [
    {
     "name": "stdout",
     "output_type": "stream",
     "text": [
      "31\n"
     ]
    }
   ],
   "source": [
    "# Step 1: Convert Hexadecimal to Decimal\n",
    "n = \"1F\"\n",
    "print(int(n, 16))"
   ]
  },
  {
   "cell_type": "code",
   "execution_count": null,
   "id": "5c04ab41",
   "metadata": {},
   "outputs": [],
   "source": []
  }
 ],
 "metadata": {
  "kernelspec": {
   "display_name": "portfol_venv",
   "language": "python",
   "name": "portfol_venv"
  },
  "language_info": {
   "codemirror_mode": {
    "name": "ipython",
    "version": 3
   },
   "file_extension": ".py",
   "mimetype": "text/x-python",
   "name": "python",
   "nbconvert_exporter": "python",
   "pygments_lexer": "ipython3",
   "version": "3.10.18"
  }
 },
 "nbformat": 4,
 "nbformat_minor": 5
}
