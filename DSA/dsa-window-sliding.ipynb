{
 "cells": [
  {
   "cell_type": "code",
   "execution_count": 13,
   "id": "dd5a03b2",
   "metadata": {},
   "outputs": [
    {
     "name": "stdout",
     "output_type": "stream",
     "text": [
      "abc\n"
     ]
    }
   ],
   "source": [
    "a = \"abcabcbb\"\n",
    "val = []\n",
    "j = 0\n",
    "ans = []\n",
    "for i in range(len(a)):\n",
    "    while a[i] in val:\n",
    "        val.remove(a[j])\n",
    "        j += 1\n",
    "\n",
    "    val.append(a[i])\n",
    "    ans.append(\"\".join(val))\n",
    "\n",
    "max_val = max(ans, key=max)\n",
    "print(max_val)"
   ]
  },
  {
   "cell_type": "code",
   "execution_count": 17,
   "id": "9d394202",
   "metadata": {},
   "outputs": [
    {
     "name": "stdout",
     "output_type": "stream",
     "text": [
      "wke ['p', 'pw', 'w', 'wk', 'wke', 'kew']\n"
     ]
    }
   ],
   "source": [
    "s = \"pwwkew\"\n",
    "\n",
    "val = []\n",
    "j = 0\n",
    "ans = []\n",
    "for i in range(len(s)):\n",
    "    while s[i] in val:\n",
    "        val.remove(s[j])\n",
    "        j += 1\n",
    "\n",
    "    val.append(s[i])\n",
    "    ans.append(\"\".join(val))\n",
    "\n",
    "# max_val = max(ans, key=max)\n",
    "\n",
    "max_val = max(ans, key=len)\n",
    "print(max_val, ans)"
   ]
  },
  {
   "cell_type": "code",
   "execution_count": null,
   "id": "c898ab76",
   "metadata": {},
   "outputs": [],
   "source": [
    "## Sliding Windows removing the character\n",
    "\n",
    "def length_of_longest_substring(s):\n",
    "    char_index = {}\n",
    "    max_len = 0\n",
    "    start = 0  # Left pointer of the sliding window\n",
    "\n",
    "    for i, char in enumerate(s):\n",
    "        if char in char_index and char_index[char] >= start:\n",
    "            start = char_index[char] + 1  # Move the start\n",
    "\n",
    "        char_index[char] = i  # Update last seen index\n",
    "        max_len = max(max_len, i - start + 1)\n",
    "\n",
    "    return max_len\n"
   ]
  }
 ],
 "metadata": {
  "kernelspec": {
   "display_name": "portfol_venv",
   "language": "python",
   "name": "portfol_venv"
  },
  "language_info": {
   "codemirror_mode": {
    "name": "ipython",
    "version": 3
   },
   "file_extension": ".py",
   "mimetype": "text/x-python",
   "name": "python",
   "nbconvert_exporter": "python",
   "pygments_lexer": "ipython3",
   "version": "3.10.18"
  }
 },
 "nbformat": 4,
 "nbformat_minor": 5
}
