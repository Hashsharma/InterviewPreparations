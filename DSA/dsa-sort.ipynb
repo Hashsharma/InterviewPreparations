{
 "cells": [
  {
   "cell_type": "code",
   "execution_count": 5,
   "id": "2db06630",
   "metadata": {},
   "outputs": [
    {
     "name": "stdout",
     "output_type": "stream",
     "text": [
      "[11, 22, 23, 51, 55]\n"
     ]
    }
   ],
   "source": [
    "## Quick sort\n",
    "def quick_sort(arr):\n",
    "    \n",
    "    if len(arr) < 1:\n",
    "        return arr\n",
    "    \n",
    "    pivot = arr[0]\n",
    "    less_val = [i for i in arr[1:] if i < pivot]\n",
    "    great_val = [i for i in arr[1:] if i >= pivot]\n",
    "\n",
    "    return quick_sort(less_val) + [pivot] + quick_sort(great_val)\n",
    "\n",
    "\n",
    "a = [55, 22, 11, 23, 51]\n",
    "print(quick_sort(a))"
   ]
  },
  {
   "cell_type": "code",
   "execution_count": null,
   "id": "44939a9f",
   "metadata": {},
   "outputs": [],
   "source": []
  }
 ],
 "metadata": {
  "kernelspec": {
   "display_name": "portfol_venv",
   "language": "python",
   "name": "portfol_venv"
  },
  "language_info": {
   "codemirror_mode": {
    "name": "ipython",
    "version": 3
   },
   "file_extension": ".py",
   "mimetype": "text/x-python",
   "name": "python",
   "nbconvert_exporter": "python",
   "pygments_lexer": "ipython3",
   "version": "3.10.18"
  }
 },
 "nbformat": 4,
 "nbformat_minor": 5
}
