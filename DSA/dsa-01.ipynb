{
 "cells": [
  {
   "cell_type": "code",
   "execution_count": 1,
   "id": "28d93d5d",
   "metadata": {},
   "outputs": [
    {
     "name": "stdout",
     "output_type": "stream",
     "text": [
      "0 1\n",
      "1 3\n",
      "2 3\n",
      "3 4\n"
     ]
    }
   ],
   "source": [
    "A= [1, 3, 3, 4]\n",
    "\n",
    "for i, num in enumerate(A):\n",
    "    print(i, num)"
   ]
  },
  {
   "cell_type": "code",
   "execution_count": 2,
   "id": "3e96529f",
   "metadata": {},
   "outputs": [
    {
     "name": "stdout",
     "output_type": "stream",
     "text": [
      "[0, 1]\n"
     ]
    }
   ],
   "source": [
    "def two_sum(A, target):\n",
    "    num_to_index = {}\n",
    "    for i, num in enumerate(A):\n",
    "        complement = target - num\n",
    "        if complement in num_to_index:\n",
    "            return [num_to_index[complement], i]\n",
    "        num_to_index[num] = i\n",
    "    return None  # If no such pair exists\n",
    "\n",
    "A = [2, 7, 11, 15]\n",
    "target = 9\n",
    "print(two_sum(A, target))  # Output: [0, 1]"
   ]
  },
  {
   "cell_type": "code",
   "execution_count": null,
   "id": "56d8ed41",
   "metadata": {},
   "outputs": [
    {
     "name": "stdout",
     "output_type": "stream",
     "text": [
      "[[1, 2], [2, 3], [0, 4]]\n"
     ]
    }
   ],
   "source": [
    "def two_sum_with_complement_strategy(arr, target):\n",
    "    ni = {}\n",
    "    ans = []\n",
    "    for i, num in enumerate(arr):\n",
    "        complement = target-num\n",
    "        if complement in ni:\n",
    "            # for j in ni.get(complement):\n",
    "            ans.append([ni.get(complement), i])\n",
    "\n",
    "        ni[num] = i\n",
    "\n",
    "    return ans \n",
    "\n",
    "A = [1, 2, 3, 2, 4]\n",
    "target = 5\n",
    "print(two_sum_with_complement_strategy(A, target))  # Output: [[1, 4], [3, 4], [2, 3]]"
   ]
  },
  {
   "cell_type": "code",
   "execution_count": null,
   "id": "ffc1c058",
   "metadata": {},
   "outputs": [
    {
     "name": "stdout",
     "output_type": "stream",
     "text": [
      "1 0\n",
      "2 1\n"
     ]
    }
   ],
   "source": [
    "a = {1: 0, 2: 1}\n",
    "for key, value in a.items():\n",
    "    print(key, value)"
   ]
  },
  {
   "cell_type": "code",
   "execution_count": 25,
   "id": "f45aa392",
   "metadata": {},
   "outputs": [
    {
     "name": "stdout",
     "output_type": "stream",
     "text": [
      "12324\n"
     ]
    }
   ],
   "source": [
    "i1 = int(''.join(map(str, A)))\n",
    "print(i1)"
   ]
  },
  {
   "cell_type": "code",
   "execution_count": 7,
   "id": "3769085a",
   "metadata": {},
   "outputs": [
    {
     "name": "stdout",
     "output_type": "stream",
     "text": [
      "[1, 2, 3, 4, 2]\n"
     ]
    }
   ],
   "source": [
    "a = [1, 2, 3, 4, 1, 2]\n",
    "a.pop(len(a) - 1 - a[::-1].index(1))  # removes last occurrence of 1\n",
    "print(a)  # [1, 2, 3, 4, 2]"
   ]
  },
  {
   "cell_type": "code",
   "execution_count": 31,
   "id": "1b590adc",
   "metadata": {},
   "outputs": [
    {
     "name": "stdout",
     "output_type": "stream",
     "text": [
      "[]\n",
      "It's fully covered\n"
     ]
    }
   ],
   "source": [
    "### Parenthesis question\n",
    "d = {\n",
    "    '}': '{',\n",
    "    ')': '(',\n",
    "    ']': '['\n",
    "}\n",
    "ans = []\n",
    "st = \"{{{(()}})}\"\n",
    "new_va = st[:]\n",
    "for i, val in enumerate(st):\n",
    "    if val in d and d[val] in ans:\n",
    "        # print(ans)\n",
    "        # ans.pop(d[val])\n",
    "        # print(ans)\n",
    "        ans.pop(len(ans) - 1 - ans[::-1].index(d[val]))\n",
    "    else:\n",
    "        ans.append(val)\n",
    "\n",
    "print(ans)\n",
    "if ans:\n",
    "    print(\"It's not fully covered\")\n",
    "else:\n",
    "    print(\"It's fully covered\")"
   ]
  },
  {
   "cell_type": "code",
   "execution_count": 42,
   "id": "cf512c93",
   "metadata": {},
   "outputs": [
    {
     "name": "stdout",
     "output_type": "stream",
     "text": [
      "[']']\n",
      "It's not fully covered\n"
     ]
    }
   ],
   "source": [
    "### Parenthesis question\n",
    "d = {\n",
    "    '}': '{',\n",
    "    ')': '(',\n",
    "    ']': '['\n",
    "}\n",
    "ans = []\n",
    "# st = \"{{{}{()(())}}}\"\n",
    "st = \"]\"\n",
    "new_va = st[:]\n",
    "for i, val in enumerate(st):\n",
    "    if val in d:\n",
    "        if ans and d[val] in ans[-1]:\n",
    "            # print(ans)\n",
    "            ans.pop()\n",
    "            # print(ans)\n",
    "            # ans.pop(len(ans) - 1 - ans[::-1].index(d[val]))\n",
    "        else:\n",
    "            ans.append(val)\n",
    "            break\n",
    "    else:\n",
    "        ans.append(val)\n",
    "\n",
    "print(ans)\n",
    "if ans:\n",
    "    print(\"It's not fully covered\")\n",
    "else:\n",
    "    print(\"It's fully covered\")"
   ]
  },
  {
   "cell_type": "code",
   "execution_count": 43,
   "id": "dedf8f5e",
   "metadata": {},
   "outputs": [
    {
     "name": "stdout",
     "output_type": "stream",
     "text": [
      "(False, [])\n"
     ]
    }
   ],
   "source": [
    "def is_valid_brackets(s):\n",
    "    bracket_map = {')': '(', '}': '{', ']': '['}\n",
    "    stack = []\n",
    "\n",
    "    for char in s:\n",
    "        if char in bracket_map:\n",
    "            if stack and stack[-1] == bracket_map[char]:\n",
    "                stack.pop()\n",
    "            else:\n",
    "                return False, stack\n",
    "        else:\n",
    "            stack.append(char)\n",
    "\n",
    "    return not stack, stack\n",
    "\n",
    "\n",
    "\n",
    "st = \"]\"\n",
    "print(is_valid_brackets(st))"
   ]
  },
  {
   "cell_type": "code",
   "execution_count": null,
   "id": "9c62d5ba",
   "metadata": {},
   "outputs": [],
   "source": []
  }
 ],
 "metadata": {
  "kernelspec": {
   "display_name": "portfol_venv",
   "language": "python",
   "name": "portfol_venv"
  },
  "language_info": {
   "codemirror_mode": {
    "name": "ipython",
    "version": 3
   },
   "file_extension": ".py",
   "mimetype": "text/x-python",
   "name": "python",
   "nbconvert_exporter": "python",
   "pygments_lexer": "ipython3",
   "version": "3.10.18"
  }
 },
 "nbformat": 4,
 "nbformat_minor": 5
}
