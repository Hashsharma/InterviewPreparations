{
 "cells": [
  {
   "cell_type": "code",
   "execution_count": 2,
   "id": "04d9c45e",
   "metadata": {},
   "outputs": [
    {
     "name": "stdout",
     "output_type": "stream",
     "text": [
      "120\n"
     ]
    }
   ],
   "source": [
    "# # Factorial\n",
    "def factorial_gen(n):\n",
    "    if n == 0:\n",
    "        return 1\n",
    "    return n * factorial_gen(n-1)\n",
    "\n",
    "a = factorial_gen(5)\n",
    "print(a)"
   ]
  },
  {
   "cell_type": "code",
   "execution_count": 6,
   "id": "de06d790",
   "metadata": {},
   "outputs": [
    {
     "name": "stdout",
     "output_type": "stream",
     "text": [
      "[0, 1, 1, 2, 3, 5, 8]\n"
     ]
    }
   ],
   "source": [
    "## Fibonacci Series\n",
    "def fibonacci_series(n):\n",
    "    if n <= 0:\n",
    "        return 0\n",
    "    if n==1 or n==2:\n",
    "        return 1\n",
    "    \n",
    "    else:\n",
    "        return fibonacci_series(n-1) + fibonacci_series(n-2)\n",
    "\n",
    "a,n = [], 7\n",
    "for i in range(0, n):\n",
    "    a.append(fibonacci_series(i))\n",
    "\n",
    "print(a)"
   ]
  },
  {
   "cell_type": "code",
   "execution_count": null,
   "id": "215eea29",
   "metadata": {},
   "outputs": [],
   "source": []
  }
 ],
 "metadata": {
  "kernelspec": {
   "display_name": "portfol_venv",
   "language": "python",
   "name": "portfol_venv"
  },
  "language_info": {
   "codemirror_mode": {
    "name": "ipython",
    "version": 3
   },
   "file_extension": ".py",
   "mimetype": "text/x-python",
   "name": "python",
   "nbconvert_exporter": "python",
   "pygments_lexer": "ipython3",
   "version": "3.10.18"
  }
 },
 "nbformat": 4,
 "nbformat_minor": 5
}
