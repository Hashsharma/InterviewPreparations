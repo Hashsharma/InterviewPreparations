{
 "cells": [
  {
   "cell_type": "code",
   "execution_count": null,
   "id": "f88cc231",
   "metadata": {},
   "outputs": [
    {
     "ename": "SyntaxError",
     "evalue": "unmatched ')' (3002929344.py, line 23)",
     "output_type": "error",
     "traceback": [
      "\u001b[0;36m  Cell \u001b[0;32mIn[1], line 23\u001b[0;36m\u001b[0m\n\u001b[0;31m    L1 = int(val1))\u001b[0m\n\u001b[0m                  ^\u001b[0m\n\u001b[0;31mSyntaxError\u001b[0m\u001b[0;31m:\u001b[0m unmatched ')'\n"
     ]
    }
   ],
   "source": [
    "# Definition for singly-linked list.\n",
    "# class ListNode:\n",
    "#     def __init__(self, val=0, next=None):\n",
    "#         self.val = val\n",
    "#         self.next = next\n",
    "class Solution:\n",
    "    def addTwoNumbers(self, l1: Optional[ListNode], l2: Optional[ListNode]) -> Optional[ListNode]:\n",
    "        current1 = l1\n",
    "        current2 = l2\n",
    "        val1, val2 = \"\", \"\"\n",
    "        while current1:\n",
    "            # print(current1.val)\n",
    "            # val1.extend([current1.val])\n",
    "            val1 += current1.val\n",
    "            current1 = current1.next\n",
    "        while current2:\n",
    "            # print(current1.val)\n",
    "            # val2.extend([current2.val])\n",
    "            val2 += current2.val\n",
    "\n",
    "            current2 = current2.next\n",
    "\n",
    "        L1 = int(val1)\n",
    "        L2 = int(val2)\n",
    "        sm = sum(L1, L2)\n",
    "        print(L1, L2)\n",
    "\n",
    "        # return [int(digit) for digit in str(sm)]\n",
    "        return l1\n",
    "        "
   ]
  },
  {
   "cell_type": "code",
   "execution_count": null,
   "id": "03669980",
   "metadata": {},
   "outputs": [],
   "source": []
  }
 ],
 "metadata": {
  "kernelspec": {
   "display_name": "portfol_venv",
   "language": "python",
   "name": "portfol_venv"
  },
  "language_info": {
   "codemirror_mode": {
    "name": "ipython",
    "version": 3
   },
   "file_extension": ".py",
   "mimetype": "text/x-python",
   "name": "python",
   "nbconvert_exporter": "python",
   "pygments_lexer": "ipython3",
   "version": "3.10.18"
  }
 },
 "nbformat": 4,
 "nbformat_minor": 5
}
